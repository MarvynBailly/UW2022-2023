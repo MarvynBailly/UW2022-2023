{
 "cells": [
  {
   "attachments": {},
   "cell_type": "markdown",
   "metadata": {},
   "source": [
    "# Homework 4"
   ]
  },
  {
   "attachments": {},
   "cell_type": "markdown",
   "metadata": {},
   "source": [
    "By Marvyn Bailly"
   ]
  },
  {
   "cell_type": "code",
   "execution_count": 6,
   "metadata": {},
   "outputs": [],
   "source": [
    "import numpy as np\n",
    "import scipy\n",
    "from scipy.io import loadmat\n",
    "from pywt import dwt2\n",
    "import math\n",
    "import matplotlib.pyplot as plt"
   ]
  },
  {
   "attachments": {},
   "cell_type": "markdown",
   "metadata": {},
   "source": [
    "#### Imports"
   ]
  },
  {
   "attachments": {},
   "cell_type": "markdown",
   "metadata": {},
   "source": [
    "Import Training Fun"
   ]
  },
  {
   "cell_type": "code",
   "execution_count": 7,
   "metadata": {},
   "outputs": [],
   "source": [
    "trainingLables = loadmat(\"CP4_training_labels.mat\")\n",
    "trainingImages = loadmat(\"CP4_training_images.mat\")\n",
    "\n",
    "mData = trainingLables[\"training_labels\"]\n",
    "mDataList = [mData[i][0] for i in range(len(mData))]\n",
    "\n",
    "mTrain = trainingImages[\"training_images\"]\n",
    "mTrainList = [mTrain[i] for i in range(len(mTrain))]\n",
    "trainData = np.concatenate(mTrainList, axis=0)"
   ]
  },
  {
   "attachments": {},
   "cell_type": "markdown",
   "metadata": {},
   "source": [
    "#### Projecting onto Principal Components"
   ]
  },
  {
   "attachments": {},
   "cell_type": "markdown",
   "metadata": {},
   "source": [
    "Define Wavelet Transform Function"
   ]
  },
  {
   "cell_type": "code",
   "execution_count": 8,
   "metadata": {},
   "outputs": [],
   "source": [
    "def generate_data(labels,data,test=True):\n",
    "    if test:\n",
    "        testLabalsArray = np.array([labels])\n",
    "        getLabels = np.concatenate((testLabalsArray.T,data.T), axis=1)\n",
    "        indices = list(np.where((getLabels[:,0] < 2))[0])\n",
    "        testDataLabels = getLabels[indices,:]\n",
    "        testData = testDataLabels[:,1:].T\n",
    "        labels = list(testDataLabels[:,0])\n",
    "        return labels,testData\n",
    "    else:\n",
    "        testLabalsArray = np.array([labels])\n",
    "        getLabels = np.concatenate((testLabalsArray.T,data.T), axis=1)\n",
    "        indices0 = list(np.where((getLabels[:,0] == 0))[0])\n",
    "        testDataLabels0 = getLabels[indices0,:]\n",
    "        testData0 = testDataLabels0[:,1:].T\n",
    "        labels0 = list(testDataLabels0[:,0])\n",
    "        \n",
    "        indices1 = list(np.where((getLabels[:,0] == 1))[0])\n",
    "        testDataLabels1 = getLabels[indices1,:]\n",
    "        testData1 = testDataLabels1[:,1:].T\n",
    "        labels1 =list(testDataLabels1[:,0])\n",
    "        \n",
    "        return labels0, testData0, labels1, testData1 "
   ]
  },
  {
   "cell_type": "code",
   "execution_count": 9,
   "metadata": {},
   "outputs": [],
   "source": [
    "def rescale_linear(array, new_min, new_max):\n",
    "    \"\"\"Rescale an arrary linearly.\"\"\"\n",
    "    minimum, maximum = np.min(array), np.max(array)\n",
    "    m = (new_max - new_min) / (maximum - minimum)\n",
    "    b = new_min - m * minimum\n",
    "    return m * array + b"
   ]
  },
  {
   "cell_type": "code",
   "execution_count": 10,
   "metadata": {},
   "outputs": [],
   "source": [
    "def dc_wavelet(dc_file):\n",
    "    m,n = dc_file.shape\n",
    "    pxl = int(math.ceil(math.sqrt(m)))\n",
    "    nw = m//4\n",
    "    \n",
    "    dcData = np.zeros((nw, n))\n",
    "    for k in range(n):\n",
    "        X = dc_file[:,k].reshape((pxl, pxl)).astype('float64')\n",
    "        ca, (cH, cV, cd) = dwt2(X, 'haar') # only want horizontal and vertical\n",
    "        cod_cH1 = np.abs(cH) # horizontal rescaled\n",
    "        cod_cV1 = np.abs(cV) # vertical rescaled\n",
    "        cod_cH1, cod_cV1 = rescale_linear(cod_cH1, 0, 1), rescale_linear(cod_cV1, 0, 1)\n",
    "        cod_edge = cod_cH1 + cod_cV1\n",
    "#         cod_edge = rescale_linear(cod_edge, 0, 1) # Rescale to [0, 1]\n",
    "        cod_edge = np.reshape(cod_edge, (nw,))\n",
    "        dcData[:,k] = cod_edge\n",
    "    \n",
    "    return dcData      "
   ]
  },
  {
   "cell_type": "code",
   "execution_count": 11,
   "metadata": {},
   "outputs": [],
   "source": [
    "train_wave = dc_wavelet(trainData)"
   ]
  },
  {
   "attachments": {},
   "cell_type": "markdown",
   "metadata": {},
   "source": [
    "Compute the SVD"
   ]
  },
  {
   "cell_type": "code",
   "execution_count": 12,
   "metadata": {},
   "outputs": [],
   "source": [
    "U, S, V = np.linalg.svd(train_wave, full_matrices=False)"
   ]
  },
  {
   "cell_type": "code",
   "execution_count": 13,
   "metadata": {},
   "outputs": [
    {
     "name": "stdout",
     "output_type": "stream",
     "text": [
      "(196, 196) (196,) (196, 30000)\n"
     ]
    }
   ],
   "source": [
    "print(U.shape,S.shape,V.shape)"
   ]
  },
  {
   "cell_type": "code",
   "execution_count": 14,
   "metadata": {},
   "outputs": [
    {
     "data": {
      "text/plain": [
       "[<matplotlib.lines.Line2D at 0x12951a70>]"
      ]
     },
     "execution_count": 14,
     "metadata": {},
     "output_type": "execute_result"
    },
    {
     "data": {
      "image/png": "[encoded data removed]",
      "text/plain": [
       "<Figure size 432x288 with 1 Axes>"
      ]
     },
     "metadata": {
      "needs_background": "light"
     },
     "output_type": "display_data"
    }
   ],
   "source": [
    "plt.plot(S,\"ko\",linewidth=2)"
   ]
  },
  {
   "cell_type": "code",
   "execution_count": 15,
   "metadata": {},
   "outputs": [
    {
     "data": {
      "text/plain": [
       "(30000, 196)"
      ]
     },
     "execution_count": 15,
     "metadata": {},
     "output_type": "execute_result"
    }
   ],
   "source": [
    "np.conjugate(V.T).shape"
   ]
  },
  {
   "cell_type": "code",
   "execution_count": 16,
   "metadata": {},
   "outputs": [],
   "source": [
    "S_m = np.diag(S)\n",
    "\n",
    "\n",
    "features = 15\n",
    "A1 = features\n",
    "\n",
    "princ_comp = S_m @ V\n",
    "n_t = train_wave.shape[1]\n",
    "train_wave = train_wave[0:features,0:n_t]"
   ]
  },
  {
   "cell_type": "code",
   "execution_count": 17,
   "metadata": {},
   "outputs": [],
   "source": [
    "A2 = U[:,0:features]"
   ]
  },
  {
   "attachments": {},
   "cell_type": "markdown",
   "metadata": {},
   "source": [
    "Now we wish to seperate the 0's and the 1's"
   ]
  },
  {
   "cell_type": "code",
   "execution_count": 82,
   "metadata": {},
   "outputs": [],
   "source": [
    "# cols = [\"col_\" + str(x) for x in range(1,features+1)]\n",
    "# train_wave_df = pd.DataFrame(train_wave.T,columns=cols)\n",
    "# labels_df = pd.DataFrame(mDataList, columns=[\"labels\"])\n",
    "# labels_train_df = pd.concat([labels_df,train_wave_df],axis=1)\n",
    "# reduced0 = labels_train_df.loc[(labels_train_df['labels'] == 0)]\n",
    "# reduced1 = labels_train_df.loc[(labels_train_df[\"labels\"] == 1)]\n",
    "# reduced_no_label0 = reduced0.loc[:,[x for x in reduced0.columns if x != \"labels\"]]\n",
    "# train_wave_reduced0 = reduced_no_label0.to_numpy().T\n",
    "# n0 = train_wave_reduced0.shape[1]\n",
    "# reduced_no_label1 = reduced1.loc[:,[x for x in reduced1.columns if x != \"labels\"]]\n",
    "# train_wave_reduced1 = reduced_no_label1.to_numpy().T\n",
    "# n1 = train_wave_reduced1.shape[1]\n",
    "# labels0 = reduced0[\"labels\"].to_list()\n",
    "# labels1 = reduced1[\"labels\"].to_list()"
   ]
  },
  {
   "cell_type": "code",
   "execution_count": 18,
   "metadata": {},
   "outputs": [],
   "source": [
    "labels0, train_wave_reduced0, labels1, train_wave_reduced1= generate_data(mDataList, train_wave,False)"
   ]
  },
  {
   "attachments": {},
   "cell_type": "markdown",
   "metadata": {},
   "source": [
    "Take the average of the sets"
   ]
  },
  {
   "cell_type": "code",
   "execution_count": 19,
   "metadata": {},
   "outputs": [],
   "source": [
    "n0 = train_wave_reduced0.shape[1]\n",
    "n1 = train_wave_reduced1.shape[1]\n",
    "\n",
    "zeros = princ_comp[0:features, 0:n0]\n",
    "ones = princ_comp[0:features, n0+1:n0+n1]\n",
    "\n",
    "mean_train0 = np.mean(zeros, axis=1)\n",
    "mean_train1 = np.mean(ones, axis=1)"
   ]
  },
  {
   "attachments": {},
   "cell_type": "markdown",
   "metadata": {},
   "source": [
    "Calculate variance within classes"
   ]
  },
  {
   "cell_type": "code",
   "execution_count": 20,
   "metadata": {},
   "outputs": [
    {
     "data": {
      "text/plain": [
       "(15, 15)"
      ]
     },
     "execution_count": 20,
     "metadata": {},
     "output_type": "execute_result"
    }
   ],
   "source": [
    "Sw = 0\n",
    "for i in range(n0):\n",
    "    Sw += np.conjugate((np.array([zeros[:,i]]) - np.array([mean_train0])).T)@(np.array([zeros[:,i]]) - np.array([mean_train0]))\n",
    "for j in range(n1):\n",
    "    Sw += np.conjugate((np.array([ones[:,i]]) - np.array([mean_train1])).T)@(np.array([ones[:,i]]) - np.array([mean_train1]))\n",
    "A3 = Sw\n",
    "A3.shape"
   ]
  },
  {
   "attachments": {},
   "cell_type": "markdown",
   "metadata": {},
   "source": [
    "Calculate variance between classes"
   ]
  },
  {
   "cell_type": "code",
   "execution_count": 224,
   "metadata": {},
   "outputs": [],
   "source": [
    "Sb = np.outer(mean_train0 - mean_train1,mean_train0 - mean_train1)\n",
    "A4 = Sb"
   ]
  },
  {
   "attachments": {},
   "cell_type": "markdown",
   "metadata": {},
   "source": [
    "Find the best projection line"
   ]
  },
  {
   "cell_type": "code",
   "execution_count": 92,
   "metadata": {},
   "outputs": [
    {
     "data": {
      "text/plain": [
       "array([-4.57483177e-04, -3.91471956e-02, -2.36034309e-01,  4.00358825e-02,\n",
       "       -9.91851300e-02,  4.47577468e-02, -2.87519311e-02, -1.11599144e-02,\n",
       "        1.28985383e-01,  3.42183976e-02, -8.53284784e-01, -9.51599891e-02,\n",
       "       -3.93541431e-01, -2.75509176e-02,  1.33295432e-01])"
      ]
     },
     "execution_count": 92,
     "metadata": {},
     "output_type": "execute_result"
    }
   ],
   "source": [
    "D, V2 = scipy.linalg.eig(Sb,Sw)\n",
    "lam = max(abs(D))\n",
    "ind = np.argmax(abs(D))\n",
    "w = V2[:,ind]\n",
    "w /= np.linalg.norm(w,2)\n",
    "A5 = w\n",
    "A5"
   ]
  },
  {
   "attachments": {},
   "cell_type": "markdown",
   "metadata": {},
   "source": [
    "Project data onto w "
   ]
  },
  {
   "cell_type": "code",
   "execution_count": 125,
   "metadata": {},
   "outputs": [],
   "source": [
    "vzeros = np.conjugate(w.T)@zeros\n",
    "vones = np.conjugate(w.T)@ones\n"
   ]
  },
  {
   "attachments": {},
   "cell_type": "markdown",
   "metadata": {},
   "source": [
    "Orient all the ones on the lower end and all the zeros on the higher end"
   ]
  },
  {
   "cell_type": "code",
   "execution_count": 126,
   "metadata": {},
   "outputs": [],
   "source": [
    "if np.mean(vzeros) > np.mean(vones):\n",
    "    w *= -1\n",
    "    vzeros *= -1\n",
    "    vones *= -1"
   ]
  },
  {
   "cell_type": "code",
   "execution_count": 127,
   "metadata": {},
   "outputs": [
    {
     "data": {
      "image/png": "[encoded data removed]",
      "text/plain": [
       "<Figure size 432x288 with 1 Axes>"
      ]
     },
     "metadata": {
      "needs_background": "light"
     },
     "output_type": "display_data"
    }
   ],
   "source": [
    "plt.plot(vzeros, np.zeros(len(vzeros)),\"ob\",linewidth=2)\n",
    "plt.plot(vones, np.ones(len(vones)),\"rd\",linewidth=2)\n",
    "plt.ylim([0, 1.2])\n",
    "plt.show()"
   ]
  },
  {
   "attachments": {},
   "cell_type": "markdown",
   "metadata": {},
   "source": [
    "Find the Threshold"
   ]
  },
  {
   "cell_type": "code",
   "execution_count": 128,
   "metadata": {},
   "outputs": [],
   "source": [
    "sortOnes = list(np.sort(vones))\n",
    "sortZeros = list(np.sort(vzeros))\n",
    "\n",
    "t1 = len(sortZeros) - 1\n",
    "t2 = 1\n",
    "\n",
    "while sortZeros[t1] > sortOnes[t2]:\n",
    "    t1 -= 1\n",
    "    t2 += 1\n",
    "    \n",
    "threshold = (sortZeros[t1] + sortOnes[t2])/2"
   ]
  },
  {
   "cell_type": "code",
   "execution_count": 129,
   "metadata": {},
   "outputs": [
    {
     "data": {
      "text/plain": [
       "-0.05973287614748804"
      ]
     },
     "execution_count": 129,
     "metadata": {},
     "output_type": "execute_result"
    }
   ],
   "source": [
    "A6 = threshold"
   ]
  },
  {
   "attachments": {},
   "cell_type": "markdown",
   "metadata": {},
   "source": [
    "#### Classify test data"
   ]
  },
  {
   "cell_type": "code",
   "execution_count": 103,
   "metadata": {},
   "outputs": [],
   "source": [
    "testLables = loadmat(\"CP4_test_labels.mat\")\n",
    "testImages = loadmat(\"CP4_test_images.mat\")\n",
    "\n",
    "mDataTest = testLables[\"test_labels\"]\n",
    "mDataListTest = [mDataTest[i][0] for i in range(len(mDataTest))]\n",
    "\n",
    "mTrainTest = testImages[\"test_images\"]\n",
    "mTrainListTest = [mTrainTest[i] for i in range(len(mTrainTest))]\n",
    "testData = np.concatenate(mTrainListTest, axis=0)"
   ]
  },
  {
   "attachments": {},
   "cell_type": "markdown",
   "metadata": {},
   "source": [
    "get labels and labeless data"
   ]
  },
  {
   "cell_type": "code",
   "execution_count": 104,
   "metadata": {},
   "outputs": [],
   "source": [
    "testDataLabels,testData = generate_data(mDataListTest,testData)\n"
   ]
  },
  {
   "attachments": {},
   "cell_type": "markdown",
   "metadata": {},
   "source": [
    "Wavelet Fun"
   ]
  },
  {
   "cell_type": "code",
   "execution_count": 110,
   "metadata": {},
   "outputs": [],
   "source": [
    "testWave = dc_wavelet(testData)"
   ]
  },
  {
   "cell_type": "code",
   "execution_count": 140,
   "metadata": {},
   "outputs": [
    {
     "data": {
      "text/plain": [
       "(1062,)"
      ]
     },
     "execution_count": 140,
     "metadata": {},
     "output_type": "execute_result"
    }
   ],
   "source": [
    "testData[1].shape"
   ]
  },
  {
   "cell_type": "code",
   "execution_count": 153,
   "metadata": {},
   "outputs": [],
   "source": [
    "testMat = np.conjugate(A2.T)@testWave\n",
    "pval = np.conjugate(w.T)@testMat\n",
    "A7 = np.array([pval])\n",
    "testNum = testData[1].shape[0]"
   ]
  },
  {
   "cell_type": "code",
   "execution_count": 154,
   "metadata": {},
   "outputs": [],
   "source": [
    "resVec = (pval > threshold)\n",
    "\n",
    "err = abs(resVec - testDataLabels)\n",
    "errNum = np.sum(err);\n",
    "sucRate = 1 - errNum/testNum;"
   ]
  },
  {
   "cell_type": "code",
   "execution_count": 155,
   "metadata": {},
   "outputs": [
    {
     "data": {
      "text/plain": [
       "-55.42843691148776"
      ]
     },
     "execution_count": 155,
     "metadata": {},
     "output_type": "execute_result"
    }
   ],
   "source": [
    "sucRate"
   ]
  },
  {
   "cell_type": "code",
   "execution_count": null,
   "metadata": {},
   "outputs": [],
   "source": []
  }
 ],
 "metadata": {
  "kernelspec": {
   "display_name": "Python 3",
   "language": "python",
   "name": "python3"
  },
  "language_info": {
   "codemirror_mode": {
    "name": "ipython",
    "version": 3
   },
   "file_extension": ".py",
   "mimetype": "text/x-python",
   "name": "python",
   "nbconvert_exporter": "python",
   "pygments_lexer": "ipython3",
   "version": "3.7.4"
  },
  "orig_nbformat": 4
 },
 "nbformat": 4,
 "nbformat_minor": 2
}
