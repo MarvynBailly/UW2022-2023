{
 "cells": [
  {
   "cell_type": "markdown",
   "metadata": {},
   "source": [
    "# Mapping invariant manifolds\n"
   ]
  },
  {
   "cell_type": "markdown",
   "metadata": {},
   "source": [
    "### (0) Import the usual, plus scipy package for solving initial value problems"
   ]
  },
  {
   "cell_type": "code",
   "execution_count": 2,
   "metadata": {
    "jupyter": {
     "source_hidden": true
    },
    "tags": []
   },
   "outputs": [],
   "source": [
    "import matplotlib.pylab as plt   # That gives plotting, and the next line makes plots appear inline in notebook\n",
    "%matplotlib inline  \n",
    "import numpy as np  # That gives numerical arrays and tools for manipulating them\n",
    "\n",
    "import scipy.optimize as opt\n",
    "import scipy.linalg as la\n",
    "import scipy.integrate as int"
   ]
  },
  {
   "cell_type": "markdown",
   "metadata": {},
   "source": [
    "# Define nonlinear map and its inverse"
   ]
  },
  {
   "cell_type": "markdown",
   "metadata": {},
   "source": [
    "Here, we'll be working with autonomous two-dimensional nonlinear maps in the $(x_1,x_2)$ plane:\n",
    "\n",
    "$$\n",
    "{x_1(n+1)} = f(x_1(n),x_2(n)) \\\\\n",
    "{x_2(n+1)} = g(x_1(n),x_2(n))\n",
    "$$\n"
   ]
  },
  {
   "cell_type": "markdown",
   "metadata": {},
   "source": [
    "We'll also define its inverse:\n",
    "\n",
    "$$\n",
    "{x_1(n)} = f^{inv}(x_1(n+1),x_2(n+1)) \\\\\n",
    "{x_2(n)} = g^{inv}(x_1(n+1),x_2(n+1))\n",
    "$$\n"
   ]
  },
  {
   "cell_type": "code",
   "execution_count": 8,
   "metadata": {},
   "outputs": [],
   "source": [
    "pi = np.pi"
   ]
  },
  {
   "cell_type": "code",
   "execution_count": 9,
   "metadata": {},
   "outputs": [],
   "source": [
    "fp = (1/2,1)"
   ]
  },
  {
   "cell_type": "code",
   "execution_count": 12,
   "metadata": {},
   "outputs": [],
   "source": [
    "def f_fun(x1,x2):\n",
    "    f= (x1 + x2 - 1/(2*pi) * np.sin(2*pi*x1)) % 1;\n",
    "    return f\n",
    "\n",
    "def g_fun(x1,x2):\n",
    "    g= x2 - 1/(2*pi) * np.sin(2*pi*x1);\n",
    "    return g\n"
   ]
  },
  {
   "attachments": {},
   "cell_type": "markdown",
   "metadata": {},
   "source": [
    "Double check it is working:"
   ]
  },
  {
   "cell_type": "code",
   "execution_count": 11,
   "metadata": {},
   "outputs": [
    {
     "name": "stdout",
     "output_type": "stream",
     "text": [
      "True True\n"
     ]
    }
   ],
   "source": [
    "print(f_fun(1/2,1) == 0.5, g_fun(1/2,1) == 1)"
   ]
  },
  {
   "cell_type": "code",
   "execution_count": 13,
   "metadata": {},
   "outputs": [],
   "source": [
    "def f_inv_fun(x1,x2):\n",
    "    f_inv = (x1 - x2) % 1#(f_fun(x1,x2) - g_fun(x1,x2)) % 1\n",
    "    return f_inv\n",
    "\n",
    "def g_inv_fun(x1,x2):\n",
    "    g_inv= x2 + 1/(2*pi) * np.sin(2*pi*(x1 - x2))#g_fun(x1,x2) + 1/(2*pi)*np.sin(2*pi*(f_fun(x1,x2) - g_fun(x1,x2)))\n",
    "    return g_inv\n"
   ]
  },
  {
   "cell_type": "markdown",
   "metadata": {},
   "source": [
    "## Enter Jacobian and compute eigenvectors"
   ]
  },
  {
   "cell_type": "code",
   "execution_count": 5,
   "metadata": {},
   "outputs": [
    {
     "name": "stdout",
     "output_type": "stream",
     "text": [
      "[[2 1]\n",
      " [1 1]]\n",
      "eigenvalue 1-D array= [2.618+0.j 0.382+0.j]\n",
      "eigenvector 2_D array\n",
      "[[ 0.851 -0.526]\n",
      " [ 0.526  0.851]]\n"
     ]
    }
   ],
   "source": [
    "A_mat=np.array([[2 ,1],[1 , 1]])\n",
    "print(A_mat)\n",
    "\n",
    "l, v = la.eig(A_mat)\n",
    "\n",
    "np.set_printoptions(precision=3, suppress=True)\n",
    "print('eigenvalue 1-D array=',l)\n",
    "print('eigenvector 2_D array')\n",
    "print(v)"
   ]
  },
  {
   "cell_type": "code",
   "execution_count": 6,
   "metadata": {},
   "outputs": [
    {
     "name": "stdout",
     "output_type": "stream",
     "text": [
      "0.6180339887498948\n",
      "-1.6180339887498951\n"
     ]
    }
   ],
   "source": [
    "slope_1 = v[1,0]/v[0,0]\n",
    "print(slope_1)  # in this case, for unstable eigenvector\n",
    "\n",
    "slope_2 = v[1,1]/v[0,1]\n",
    "print(slope_2)  # in this case, for stable eigenvector"
   ]
  },
  {
   "cell_type": "markdown",
   "metadata": {},
   "source": [
    "## Set up arrays of initial conditions, along stable and unstable eigenvectors"
   ]
  },
  {
   "cell_type": "code",
   "execution_count": 10,
   "metadata": {},
   "outputs": [
    {
     "data": {
      "text/plain": [
       "<matplotlib.legend.Legend at 0x15f7bf0>"
      ]
     },
     "execution_count": 10,
     "metadata": {},
     "output_type": "execute_result"
    },
    {
     "data": {
      "image/png": "[encoded data removed]",
      "text/plain": [
       "<Figure size 432x288 with 1 Axes>"
      ]
     },
     "metadata": {
      "needs_background": "light"
     },
     "output_type": "display_data"
    }
   ],
   "source": [
    "num_ics=20000\n",
    "\n",
    "#make a line of initial conditions, via x2 = m x1 + b\n",
    "m = slope_2\n",
    "\n",
    "x1_ic_stable_list=np.linspace(0, .0001, num_ics) + 0.5\n",
    "x2_ic_stable_list=m*(x1_ic_stable_list - fp[0]) + fp[1]\n",
    "\n",
    "\n",
    "\n",
    "#make a line of initial conditions, via x2 = m x1 + b\n",
    "m = slope_1\n",
    "\n",
    "x1_ic_unstable_list=np.linspace(0, .0001, num_ics) + 0.5\n",
    "x2_ic_unstable_list=m*(x1_ic_unstable_list - fp[0]) + fp[1]\n",
    "\n",
    "plt.figure()\n",
    "plt.plot(x1_ic_stable_list,x2_ic_stable_list,label=\"stable evr\")\n",
    "plt.plot(x1_ic_unstable_list,x2_ic_unstable_list,label=\"unstable evr\")\n",
    "\n",
    "plt.legend()"
   ]
  },
  {
   "cell_type": "markdown",
   "metadata": {},
   "source": [
    "### Iterate intial conditions along stable manifold backward in time ... and intial conditions along unstable manifold forward in time\n"
   ]
  },
  {
   "cell_type": "code",
   "execution_count": 14,
   "metadata": {},
   "outputs": [
    {
     "data": {
      "image/png": "[encoded data removed]",
      "text/plain": [
       "<Figure size 432x288 with 1 Axes>"
      ]
     },
     "metadata": {
      "needs_background": "light"
     },
     "output_type": "display_data"
    }
   ],
   "source": [
    "num_iterations=22\n",
    "x1_stable_array=np.zeros([x1_ic_stable_list.shape[0],num_iterations])\n",
    "x2_stable_array=np.zeros(x1_stable_array.shape)\n",
    "#x1_unstable_array=np.zeros([x1_ic_unstable_list.shape[0],num_iterations])\n",
    "#x2_unstable_array=np.zeros(x1_unstable_array.shape)\n",
    "\n",
    "for ic in np.arange(num_ics):\n",
    "    x1_stable_array[ic,0]=x1_ic_stable_list[ic]\n",
    "    x2_stable_array[ic,0]=x2_ic_stable_list[ic]\n",
    "    #x1_unstable_array[ic,0]=x1_ic_unstable_list[ic]\n",
    "    #x2_unstable_array[ic,0]=x2_ic_unstable_list[ic]\n",
    "    \n",
    "    for n in np.arange(num_iterations-1):    \n",
    "        x1_stable_array[ic,n+1]=f_inv_fun(x1_stable_array[ic,n],x2_stable_array[ic,n])\n",
    "        x2_stable_array[ic,n+1]=g_inv_fun(x1_stable_array[ic,n],x2_stable_array[ic,n])\n",
    "        #x1_unstable_array[ic,n+1]=f_fun(x1_unstable_array[ic,n],x2_unstable_array[ic,n])\n",
    "        #x2_unstable_array[ic,n+1]=g_fun(x1_unstable_array[ic,n],x2_unstable_array[ic,n])\n",
    "\n",
    "plt.figure()\n",
    "for n in np.arange(num_iterations):    \n",
    "    plt.plot(x1_stable_array[:,n],x2_stable_array[:,n],'.',color='green',label=\"stable manif.\")\n",
    "    #plt.plot(x1_unstable_array[:,n],x2_unstable_array[:,n],'.',color='blue',label=\"unstable manif.\")\n",
    "plt.show()"
   ]
  },
  {
   "attachments": {},
   "cell_type": "markdown",
   "metadata": {},
   "source": [
    "Look at the unstable manifold"
   ]
  },
  {
   "cell_type": "code",
   "execution_count": 99,
   "metadata": {},
   "outputs": [
    {
     "data": {
      "image/png": "[encoded data removed]",
      "text/plain": [
       "<Figure size 432x288 with 1 Axes>"
      ]
     },
     "metadata": {
      "needs_background": "light"
     },
     "output_type": "display_data"
    }
   ],
   "source": [
    "plt.figure()\n",
    "for n in np.arange(num_iterations):    \n",
    "    #plt.plot(x1_stable_array[:,n],x2_stable_array[:,n],'.',color='green',label=\"stable manif.\")\n",
    "    plt.plot(x1_unstable_array[:,n],x2_unstable_array[:,n],'.',color='blue',label=\"unstable manif.\")\n",
    "plt.show()"
   ]
  },
  {
   "attachments": {},
   "cell_type": "markdown",
   "metadata": {},
   "source": [
    "Look at the stable manifold"
   ]
  },
  {
   "cell_type": "code",
   "execution_count": 101,
   "metadata": {},
   "outputs": [
    {
     "data": {
      "image/png": "[encoded data removed]",
      "text/plain": [
       "<Figure size 432x288 with 1 Axes>"
      ]
     },
     "metadata": {
      "needs_background": "light"
     },
     "output_type": "display_data"
    }
   ],
   "source": [
    "plt.figure()\n",
    "for n in np.arange(num_iterations):    \n",
    "    plt.plot(x1_stable_array[:,n],x2_stable_array[:,n],'.',color='green',label=\"stable manif.\")\n",
    "    #plt.plot(x1_unstable_array[:,n],x2_unstable_array[:,n],'.',color='blue',label=\"unstable manif.\")\n",
    "plt.show()"
   ]
  },
  {
   "attachments": {},
   "cell_type": "markdown",
   "metadata": {},
   "source": [
    "Look at the tangle"
   ]
  },
  {
   "cell_type": "code",
   "execution_count": 15,
   "metadata": {},
   "outputs": [
    {
     "data": {
      "image/png": "[encoded data removed]",
      "text/plain": [
       "<Figure size 432x288 with 1 Axes>"
      ]
     },
     "metadata": {
      "needs_background": "light"
     },
     "output_type": "display_data"
    }
   ],
   "source": [
    "num_iterations=30\n",
    "x1_stable_array=np.zeros([x1_ic_stable_list.shape[0],num_iterations])\n",
    "x2_stable_array=np.zeros(x1_stable_array.shape)\n",
    "x1_unstable_array=np.zeros([x1_ic_unstable_list.shape[0],num_iterations])\n",
    "x2_unstable_array=np.zeros(x1_unstable_array.shape)\n",
    "\n",
    "plt.figure()\n",
    "for ic in np.arange(num_ics):\n",
    "    x1_stable_array[ic,0]=x1_ic_stable_list[ic]\n",
    "    x2_stable_array[ic,0]=x2_ic_stable_list[ic]\n",
    "    x1_unstable_array[ic,0]=x1_ic_unstable_list[ic]\n",
    "    x2_unstable_array[ic,0]=x2_ic_unstable_list[ic]\n",
    "    \n",
    "    for n in np.arange(num_iterations-1):    \n",
    "        x1_stable_array[ic,n+1]=f_inv_fun(x1_stable_array[ic,n],x2_stable_array[ic,n])\n",
    "        x2_stable_array[ic,n+1]=g_inv_fun(x1_stable_array[ic,n],x2_stable_array[ic,n])\n",
    "        x1_unstable_array[ic,n+1]=f_fun(x1_unstable_array[ic,n],x2_unstable_array[ic,n])\n",
    "        x2_unstable_array[ic,n+1]=g_fun(x1_unstable_array[ic,n],x2_unstable_array[ic,n])\n",
    "\n",
    "for n in np.arange(num_iterations):    \n",
    "    plt.plot(x1_stable_array[:,n],x2_stable_array[:,n],'.',color='green',label=\"stable manif.\")\n",
    "    plt.plot(x1_unstable_array[:,n],x2_unstable_array[:,n],'.',color='blue',label=\"unstable manif.\")\n",
    "plt.show()"
   ]
  },
  {
   "attachments": {},
   "cell_type": "markdown",
   "metadata": {},
   "source": [
    "Look at a particular trajectory"
   ]
  },
  {
   "cell_type": "code",
   "execution_count": 16,
   "metadata": {},
   "outputs": [],
   "source": [
    "num_iterations=30\n",
    "trajectoryIndex = 13;\n",
    "\n",
    "trajectoryX = np.zeros(num_iterations)\n",
    "trajectoryY = np.zeros(num_iterations)\n",
    "\n",
    "trajectoryX[0] = x1_ic_unstable_list[trajectoryIndex];\n",
    "trajectoryY[0] = x2_ic_unstable_list[trajectoryIndex];\n",
    "\n",
    "for n in range(num_iterations-1):\n",
    "    trajectoryX[n+1] = f_fun(trajectoryX[n],trajectoryY[n])\n",
    "    trajectoryY[n+1] = g_fun(trajectoryX[n],trajectoryY[n])"
   ]
  },
  {
   "cell_type": "code",
   "execution_count": 20,
   "metadata": {},
   "outputs": [
    {
     "name": "stdout",
     "output_type": "stream",
     "text": [
      "0.5000000650032501 1.000000040174218\n"
     ]
    }
   ],
   "source": [
    "print(trajectoryX[0],trajectoryY[0])"
   ]
  },
  {
   "cell_type": "code",
   "execution_count": 17,
   "metadata": {},
   "outputs": [],
   "source": [
    "num_iterations=30\n",
    "\n",
    "x1_stable_array=np.zeros([x1_ic_stable_list.shape[0],num_iterations])\n",
    "x2_stable_array=np.zeros(x1_stable_array.shape)\n",
    "x1_unstable_array=np.zeros([x1_ic_unstable_list.shape[0],num_iterations])\n",
    "x2_unstable_array=np.zeros(x1_unstable_array.shape)\n",
    "    \n",
    "for ic in np.arange(num_ics):\n",
    "    x1_stable_array[ic,0]=x1_ic_stable_list[ic]\n",
    "    x2_stable_array[ic,0]=x2_ic_stable_list[ic]\n",
    "    x1_unstable_array[ic,0]=x1_ic_unstable_list[ic]\n",
    "    x2_unstable_array[ic,0]=x2_ic_unstable_list[ic] \n",
    "    \n",
    "    \n",
    "    for n in np.arange(num_iterations-1):    \n",
    "        x1_stable_array[ic,n+1]=f_inv_fun(x1_stable_array[ic,n],x2_stable_array[ic,n])\n",
    "        x2_stable_array[ic,n+1]=g_inv_fun(x1_stable_array[ic,n],x2_stable_array[ic,n])        \n",
    "        x1_unstable_array[ic,n+1]=f_fun(x1_unstable_array[ic,n],x2_unstable_array[ic,n])\n",
    "        x2_unstable_array[ic,n+1]=g_fun(x1_unstable_array[ic,n],x2_unstable_array[ic,n])"
   ]
  },
  {
   "cell_type": "code",
   "execution_count": 18,
   "metadata": {},
   "outputs": [
    {
     "data": {
      "image/png": "[encoded data removed]",
      "text/plain": [
       "<Figure size 432x288 with 1 Axes>"
      ]
     },
     "metadata": {
      "needs_background": "light"
     },
     "output_type": "display_data"
    }
   ],
   "source": [
    "plt.figure() \n",
    "for n in np.arange(num_iterations):    \n",
    "    plt.plot(x1_stable_array[:,n],x2_stable_array[:,n],'.',color='green',label=\"stable manif.\")\n",
    "    plt.plot(x1_unstable_array[:,n],x2_unstable_array[:,n],'.',color='blue',label=\"unstable manif.\")\n",
    "    \n",
    "plt.plot(trajectoryX,trajectoryY,\".\",color=\"red\",label=\"trajectory\")\n",
    "plt.show()"
   ]
  },
  {
   "cell_type": "code",
   "execution_count": null,
   "metadata": {},
   "outputs": [],
   "source": []
  }
 ],
 "metadata": {
  "kernelspec": {
   "display_name": "Python 3 (ipykernel)",
   "language": "python",
   "name": "python3"
  },
  "language_info": {
   "codemirror_mode": {
    "name": "ipython",
    "version": 3
   },
   "file_extension": ".py",
   "mimetype": "text/x-python",
   "name": "python",
   "nbconvert_exporter": "python",
   "pygments_lexer": "ipython3",
   "version": "3.7.4"
  }
 },
 "nbformat": 4,
 "nbformat_minor": 4
}
